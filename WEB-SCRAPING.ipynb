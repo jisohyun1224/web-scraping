{
 "cells": [
  {
   "cell_type": "code",
   "execution_count": null,
   "metadata": {},
   "outputs": [],
   "source": []
  },
  {
   "cell_type": "code",
   "execution_count": null,
   "metadata": {},
   "outputs": [],
   "source": []
  },
  {
   "cell_type": "code",
   "execution_count": null,
   "metadata": {},
   "outputs": [],
   "source": []
  },
  {
   "cell_type": "code",
   "execution_count": null,
   "metadata": {},
   "outputs": [],
   "source": []
  },
  {
   "cell_type": "code",
   "execution_count": null,
   "metadata": {},
   "outputs": [],
   "source": []
  },
  {
   "cell_type": "code",
   "execution_count": null,
   "metadata": {
    "scrolled": true
   },
   "outputs": [],
   "source": []
  },
  {
   "cell_type": "code",
   "execution_count": 34,
   "metadata": {},
   "outputs": [
    {
     "name": "stdout",
     "output_type": "stream",
     "text": [
      "12월 19일, 트럼프 탄핵 조사에서 도널드 트럼프(사진) 대통령 대한 탄핵소추안이 미국 하원 본회의에서 통과되었다.\n",
      "12월 12일, 영국 총선에서 보리스 존슨 총리가 이끄는 보수당이 과반을 차지하는 압승을 하였다.\n",
      "11월 24일, 홍콩 구의회 선거에서 민주파가 압승을 거두었다.\n",
      "11월 10일, 볼리비아의 대통령인 에보 모랄레스가 부정 선거 논란이 제기되어 대통령직에서 사퇴하였다.\n",
      "10월 26일, 이라크 레반트 이슬람 국가의 지도자인 아부 바크르 알바그다디가 바리샤 기습으로 사망하였다.\n"
     ]
    }
   ],
   "source": [
    "from urllib.request import urlopen\n",
    "import requests\n",
    "from bs4 import BeautifulSoup\n",
    "\n",
    "URL = \"https://ko.wikipedia.org/wiki/%ED%8F%AC%ED%84%B8:%EC%9A%94%EC%A6%98_%ED%99%94%EC%A0%9C\"\n",
    "\n",
    "session = requests.Session()\n",
    "html= session.get(URL).content\n",
    "\n",
    "bsObj = BeautifulSoup(html, \"html.parser\")\n",
    "main_news = bsObj.find(\"table\", {\"class\": \"vevent\"})\n",
    "tr_all = main_news.find(\"table\").find_all(\"tr\")\n",
    "\n",
    "news_all = tr_all[1].find_all(\"li\")\n",
    "\n",
    "for each_tr in news_all:\n",
    "    text = each_tr.get_text().strip().replace(\"\\n\", \" \")\n",
    "    striped_text = re.sub('\\s\\s+', \" \", text)\n",
    "    print(striped_text)"
   ]
  }
 ],
 "metadata": {
  "kernelspec": {
   "display_name": "Python 3",
   "language": "python",
   "name": "python3"
  },
  "language_info": {
   "codemirror_mode": {
    "name": "ipython",
    "version": 3
   },
   "file_extension": ".py",
   "mimetype": "text/x-python",
   "name": "python",
   "nbconvert_exporter": "python",
   "pygments_lexer": "ipython3",
   "version": "3.7.4"
  }
 },
 "nbformat": 4,
 "nbformat_minor": 2
}
